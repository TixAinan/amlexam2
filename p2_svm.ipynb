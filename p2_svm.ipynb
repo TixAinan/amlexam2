{
 "cells": [
  {
   "cell_type": "code",
   "execution_count": 2,
   "metadata": {},
   "outputs": [],
   "source": [
    "import pandas as pd\n",
    "import requests\n",
    "import gzip\n",
    "import io\n",
    "import numpy as np\n",
    "from sklearn.model_selection import train_test_split\n",
    "\n",
    "from sklearn.feature_extraction.text import TfidfVectorizer\n",
    "from sklearn.svm import SVC\n",
    "from sklearn.model_selection import GridSearchCV\n",
    "from sklearn.metrics import accuracy_score, confusion_matrix\n",
    "\n",
    "import seaborn as sns\n",
    "import matplotlib.pyplot as plt"
   ]
  },
  {
   "cell_type": "code",
   "execution_count": 3,
   "metadata": {},
   "outputs": [],
   "source": [
    "#Function to download and cread pd df of the json file\n",
    "def read_gzipped_json_from_url(url):\n",
    "    # Send a HTTP request to the URL\n",
    "    response = requests.get(url)\n",
    "    # Check if the request was successful\n",
    "    if response.status_code == 200:\n",
    "        # Use gzip to decompress the content\n",
    "        with gzip.GzipFile(fileobj=io.BytesIO(response.content)) as gz:\n",
    "            # Read the JSON lines file and convert to a DataFrame\n",
    "            df = pd.read_json(gz, lines=True)\n",
    "        return df\n",
    "    else:\n",
    "        print(f\"Failed to retrieve data: status code {response.status_code}\")\n",
    "        return None"
   ]
  },
  {
   "cell_type": "code",
   "execution_count": 4,
   "metadata": {},
   "outputs": [],
   "source": [
    "# URL to the gzipped JSON file\n",
    "url = 'https://datarepo.eng.ucsd.edu/mcauley_group/data/amazon_v2/categoryFilesSmall/Luxury_Beauty_5.json.gz'\n",
    "url2 = 'https://datarepo.eng.ucsd.edu/mcauley_group/data/amazon_v2/categoryFiles/AMAZON_FASHION.json.gz'\n",
    "luxury_df = read_gzipped_json_from_url(url).reset_index(drop=True)\n",
    "amazon_fashion_df = read_gzipped_json_from_url(url2).reset_index(drop=True)"
   ]
  },
  {
   "cell_type": "code",
   "execution_count": 5,
   "metadata": {},
   "outputs": [],
   "source": [
    "fashion_df = amazon_fashion_df[['overall','reviewText']]\n",
    "luxury_df = luxury_df[['overall','reviewText']]"
   ]
  },
  {
   "cell_type": "code",
   "execution_count": 6,
   "metadata": {},
   "outputs": [],
   "source": [
    "fashion_df = fashion_df.dropna()\n",
    "luxury_df = luxury_df.dropna()"
   ]
  },
  {
   "cell_type": "code",
   "execution_count": 7,
   "metadata": {},
   "outputs": [
    {
     "name": "stdout",
     "output_type": "stream",
     "text": [
      "overall\n",
      "5    10000\n",
      "2    10000\n",
      "4    10000\n",
      "3    10000\n",
      "1    10000\n",
      "Name: count, dtype: int64\n"
     ]
    }
   ],
   "source": [
    "number_each_rating = 10000\n",
    "balanced_df = fashion_df.groupby('overall').head(number_each_rating)\n",
    "balanced_counts = balanced_df['overall'].value_counts()\n",
    "print(balanced_counts)"
   ]
  },
  {
   "cell_type": "code",
   "execution_count": 8,
   "metadata": {},
   "outputs": [],
   "source": [
    "# Defining the target variable\n",
    "y = balanced_df['overall']\n",
    "\n",
    "# Split the data into training and testing sets\n",
    "df_xtrain, df_xval, df_ytrain, df_yval = train_test_split(balanced_df, y, test_size=0.1, random_state=42, stratify=y)\n",
    "df_xtrain = df_xtrain.reset_index(drop=True)\n",
    "df_xval = df_xval.reset_index(drop=True)\n",
    "df_ytrain = df_ytrain.reset_index(drop=True)\n",
    "df_yval = df_yval.reset_index(drop=True)"
   ]
  },
  {
   "cell_type": "code",
   "execution_count": 9,
   "metadata": {},
   "outputs": [],
   "source": [
    "y_test = luxury_df['overall']\n",
    "x_test = luxury_df['reviewText']"
   ]
  },
  {
   "cell_type": "code",
   "execution_count": 10,
   "metadata": {},
   "outputs": [],
   "source": [
    "#Vectorize the text data using TF-IDF\n",
    "vectorizer = TfidfVectorizer(max_features=2000)\n",
    "X_train_tfidf = vectorizer.fit_transform(df_xtrain['reviewText'])\n",
    "X_val_tfidf = vectorizer.transform(df_xval['reviewText'])\n",
    "X_test_tfidf = vectorizer.transform(x_test)\n"
   ]
  },
  {
   "cell_type": "code",
   "execution_count": 21,
   "metadata": {},
   "outputs": [
    {
     "name": "stdout",
     "output_type": "stream",
     "text": [
      "Validation Accuracy: 0.6714\n"
     ]
    }
   ],
   "source": [
    "svm_model = SVC(kernel='rbf', C=1.0)\n",
    "svm_model.fit(X_train_tfidf, df_ytrain)\n",
    "\n",
    "y_val_pred = svm_model.predict(X_val_tfidf)\n",
    "\n",
    "accuracy = accuracy_score(df_yval, y_val_pred)\n",
    "print(\"Validation Accuracy:\", accuracy)"
   ]
  },
  {
   "cell_type": "markdown",
   "metadata": {},
   "source": [
    "Grid search"
   ]
  },
  {
   "cell_type": "code",
   "execution_count": 23,
   "metadata": {},
   "outputs": [
    {
     "name": "stdout",
     "output_type": "stream",
     "text": [
      "Best Parameters: {'C': 10, 'kernel': 'rbf'}\n",
      "Validation Accuracy: 0.6928\n"
     ]
    }
   ],
   "source": [
    "param_grid = {\n",
    "    'C': [0.1, 1, 10],\n",
    "    'kernel': ['rbf']\n",
    "    }\n",
    "svm_model = SVC() \n",
    "\n",
    "grid_search = GridSearchCV(estimator=svm_model, param_grid=param_grid, cv=3, scoring='accuracy')\n",
    "\n",
    "grid_search.fit(X_train_tfidf, df_ytrain)\n",
    "\n",
    "best_params = grid_search.best_params_\n",
    "print(\"Best Parameters:\", best_params)\n",
    "\n",
    "best_svm_model = grid_search.best_estimator_\n",
    "y_val_pred = best_svm_model.predict(X_val_tfidf)\n",
    "\n",
    "accuracy = accuracy_score(df_yval, y_val_pred)\n",
    "print(\"Validation Accuracy:\", accuracy)"
   ]
  },
  {
   "cell_type": "code",
   "execution_count": 26,
   "metadata": {},
   "outputs": [
    {
     "name": "stdout",
     "output_type": "stream",
     "text": [
      "Test Accuracy: 0.39168247482854224\n"
     ]
    }
   ],
   "source": [
    "y_test_pred = best_svm_model.predict(X_test_tfidf)\n",
    "accuracy = accuracy_score(y_test, y_test_pred)\n",
    "print(\"Test Accuracy:\", accuracy)"
   ]
  },
  {
   "cell_type": "markdown",
   "metadata": {},
   "source": [
    "Train final model"
   ]
  },
  {
   "cell_type": "code",
   "execution_count": 11,
   "metadata": {},
   "outputs": [
    {
     "name": "stdout",
     "output_type": "stream",
     "text": [
      "Validation Accuracy: 0.6928\n"
     ]
    }
   ],
   "source": [
    "svm_model_final = SVC(kernel='rbf', C=10)\n",
    "svm_model_final.fit(X_train_tfidf, df_ytrain)\n",
    "\n",
    "y_val_pred = svm_model_final.predict(X_val_tfidf)\n",
    "\n",
    "accuracy = accuracy_score(df_yval, y_val_pred)\n",
    "print(\"Validation Accuracy:\", accuracy)"
   ]
  },
  {
   "cell_type": "markdown",
   "metadata": {},
   "source": [
    "Test on test data"
   ]
  },
  {
   "cell_type": "code",
   "execution_count": 14,
   "metadata": {},
   "outputs": [
    {
     "name": "stdout",
     "output_type": "stream",
     "text": [
      "Test Accuracy: 0.39168247482854224\n"
     ]
    }
   ],
   "source": [
    "y_test_pred = svm_model_final.predict(X_test_tfidf)\n",
    "accuracy = accuracy_score(y_test, y_test_pred)\n",
    "print(\"Test Accuracy:\", accuracy)"
   ]
  },
  {
   "cell_type": "markdown",
   "metadata": {},
   "source": [
    "Confusion matrix"
   ]
  },
  {
   "cell_type": "code",
   "execution_count": 18,
   "metadata": {},
   "outputs": [
    {
     "data": {
      "image/png": "[encoded data removed]",
      "text/plain": [
       "<Figure size 800x600 with 2 Axes>"
      ]
     },
     "metadata": {},
     "output_type": "display_data"
    }
   ],
   "source": [
    "cm = confusion_matrix(y_test, y_test_pred)\n",
    "\n",
    "cm_percent = cm / cm.sum(axis=1)[:, np.newaxis] * 100\n",
    "\n",
    "# Visualize the confusion matrix using a heatmap\n",
    "plt.figure(figsize=(8, 6))\n",
    "plt.imshow(cm_percent, interpolation='nearest', cmap='Blues')\n",
    "plt.colorbar(label='Percentage')\n",
    "plt.xlabel(\"Predicted Label\")\n",
    "plt.ylabel(\"True Label\")\n",
    "plt.title(\"Confusion Matrix (%)\")\n",
    "\n",
    "for i in range(len(cm_percent)):\n",
    "    for j in range(len(cm_percent[i])):\n",
    "        plt.text(j, i, f'{cm_percent[i, j]:.2f}%', ha='center', va='center', color='black', fontsize=8)\n",
    "\n",
    "plt.xticks(range(5), labels=range(1, 6))\n",
    "plt.yticks(range(5), labels=range(1, 6))\n",
    "\n",
    "plt.show()"
   ]
  }
 ],
 "metadata": {
  "kernelspec": {
   "display_name": "gpupls3",
   "language": "python",
   "name": "python3"
  },
  "language_info": {
   "codemirror_mode": {
    "name": "ipython",
    "version": 3
   },
   "file_extension": ".py",
   "mimetype": "text/x-python",
   "name": "python",
   "nbconvert_exporter": "python",
   "pygments_lexer": "ipython3",
   "version": "3.9.18"
  }
 },
 "nbformat": 4,
 "nbformat_minor": 2
}
