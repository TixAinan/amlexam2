{
  "cells": [
    {
      "cell_type": "markdown",
      "metadata": {
        "id": "QQ-QXHxXrck2"
      },
      "source": [
        "This notebook illustrates how to load data from Amazon Product Review data set into a Pandas DataFrame.  \n",
        "---\n",
        "Data set from:[https://datarepo.eng.ucsd.edu/mcauley_group/data/amazon_v2/categoryFilesSmall/AMAZON_FASHION_5.json.gz](https://datarepo.eng.ucsd.edu/mcauley_group/data/amazon_v2/categoryFilesSmall/AMAZON_FASHION_5.json.gz)\n",
        "\n",
        "The JSON data is loaded into a pandas DataFrame. This particular file contains the following columns:\n",
        "\n",
        "- overall: The overall rating.\n",
        "- verified: Whether the review is verified.\n",
        "- reviewTime: The time of the review.\n",
        "- reviewerID: The ID of the reviewer.\n",
        "- asin: The product ID.\n",
        "- style: The style of the product, specifically its size in this case.\n",
        "- reviewerName: The name of the reviewer.\n",
        "- reviewText: The text of the review.\n",
        "- summary: The summary of the review.\n",
        "- unixReviewTime: The time of the review in Unix time format.\n",
        "\n",
        "It is a good idea to save a copy of the data on your local drive as backup while working on the take home exam.\n"
      ]
    },
    {
      "cell_type": "code",
      "execution_count": 26,
      "metadata": {
        "id": "juAFOVa0rck3"
      },
      "outputs": [],
      "source": [
        "import io\n",
        "import gzip\n",
        "import wandb\n",
        "import requests\n",
        "import numpy as np\n",
        "import pandas as pd\n",
        "import tensorflow as tf\n",
        "import matplotlib.pyplot as plt\n",
        "from wandb.keras import WandbCallback\n",
        "from tensorflow.keras import layers, metrics\n",
        "from sklearn.model_selection import train_test_split\n",
        "from tensorflow.keras.callbacks import EarlyStopping\n",
        "from sklearn.metrics import accuracy_score, confusion_matrix"
      ]
    },
    {
      "cell_type": "code",
      "execution_count": null,
      "metadata": {},
      "outputs": [],
      "source": [
        "tf.keras.utils.set_random_seed(812)"
      ]
    },
    {
      "cell_type": "code",
      "execution_count": null,
      "metadata": {
        "id": "UnJg07dtrck4"
      },
      "outputs": [],
      "source": [
        "def read_gzipped_json_from_url(url):\n",
        "    # Send a HTTP request to the URL\n",
        "    response = requests.get(url)\n",
        "    # Check if the request was successful\n",
        "    if response.status_code == 200:\n",
        "        # Use gzip to decompress the content\n",
        "        with gzip.GzipFile(fileobj=io.BytesIO(response.content)) as gz:\n",
        "            # Read the JSON lines file and convert to a DataFrame\n",
        "            df = pd.read_json(gz, lines=True)\n",
        "        return df\n",
        "    else:\n",
        "        print(f\"Failed to retrieve data: status code {response.status_code}\")\n",
        "        return None\n",
        "\n",
        "def dataset_EDA_and_preprocessing(dataset):\n",
        "    dataset = dataset[['overall','reviewText']]\n",
        "    \n",
        "    print('Dataset before DropNA:\\n',dataset.describe())\n",
        "    dataset = dataset.dropna()\n",
        "\n",
        "    print('\\nDataset after DropNA:\\n',dataset.describe())\n",
        "\n",
        "    rating_counts = dataset['overall'].value_counts()\n",
        "    # Plots rating distribution\n",
        "    fig, ax = plt.subplots(figsize=(10, 5))\n",
        "    bars = ax.bar(x=rating_counts.index, height=rating_counts.values)\n",
        "\n",
        "    ax.set_xlabel('Review Rating')\n",
        "    ax.set_ylabel('Count')\n",
        "    ax.set_title('Distribution of Ratings in Dataset')\n",
        "\n",
        "    # Add count labels on top of each bar\n",
        "    for bar in bars:\n",
        "        yval = bar.get_height()\n",
        "        ax.text(bar.get_x() + bar.get_width()/2, yval + 0.1, round(yval, 2), ha='center', va='bottom')\n",
        "\n",
        "    plt.show()\n",
        "\n",
        "    review_lengths = dataset['reviewText'].apply(len)\n",
        "\n",
        "    # Minimum length\n",
        "    min_length = review_lengths.min()\n",
        "\n",
        "    # Maximum length\n",
        "    max_length = review_lengths.max()\n",
        "\n",
        "    # Mean length\n",
        "    mean_length = review_lengths.mean()\n",
        "\n",
        "    #Median length\n",
        "    median_length = review_lengths.median()\n",
        "\n",
        "    # Print or use the values as needed\n",
        "    print('90th Percentile Length:',review_lengths.quantile(q = 0.9))\n",
        "    print(\"Minimum Length:\", min_length)\n",
        "    print(\"Maximum Length:\", max_length)\n",
        "    print(\"Mean Length:\", mean_length)\n",
        "    print(\"Median Length:\", median_length)\n",
        "\n",
        "\n",
        "        # Find the index of the review with the minimum length\n",
        "    min_length_index = review_lengths.idxmin()\n",
        "\n",
        "    # Find the index of the review with the maximum length\n",
        "    max_length_index = review_lengths.idxmax()\n",
        "\n",
        "    # Extract the reviews with minimum and maximum lengths\n",
        "    min_length_review = dataset.loc[min_length_index, 'reviewText']\n",
        "    max_length_review = dataset.loc[max_length_index, 'reviewText']\n",
        "\n",
        "    # Print or use the reviews as needed\n",
        "    print(\"Review with Minimum Length:\\n\", min_length_review)\n",
        "    print(\"\\nReview with Maximum Length:\\n\", max_length_review)\n",
        "\n",
        "    return dataset\n",
        "\n",
        "def balance_dataset(dataset, number_each_rating):\n",
        "    balanced_df = dataset.groupby('overall').head(number_each_rating)\n",
        "    balanced_counts = balanced_df['overall'].value_counts()\n",
        "    print(balanced_counts)\n",
        "    return balanced_df"
      ]
    },
    {
      "cell_type": "code",
      "execution_count": null,
      "metadata": {
        "id": "Ut-2Py4Erck4"
      },
      "outputs": [],
      "source": [
        "url = 'https://datarepo.eng.ucsd.edu/mcauley_group/data/amazon_v2/categoryFilesSmall/Luxury_Beauty_5.json.gz'\n",
        "url2 = 'https://datarepo.eng.ucsd.edu/mcauley_group/data/amazon_v2/categoryFiles/AMAZON_FASHION.json.gz'\n",
        "luxury_df = read_gzipped_json_from_url(url).reset_index(drop=True)\n",
        "amazon_fashion_df = read_gzipped_json_from_url(url2).reset_index(drop=True)"
      ]
    },
    {
      "cell_type": "code",
      "execution_count": 15,
      "metadata": {},
      "outputs": [
        {
          "name": "stdout",
          "output_type": "stream",
          "text": [
            "Dataset before DropNA:\n",
            "             overall\n",
            "count  883636.00000\n",
            "mean        3.90694\n",
            "std         1.41828\n",
            "min         1.00000\n",
            "25%         3.00000\n",
            "50%         5.00000\n",
            "75%         5.00000\n",
            "max         5.00000\n",
            "\n",
            "Dataset after DropNA:\n",
            "              overall\n",
            "count  882403.000000\n",
            "mean        3.906267\n",
            "std         1.418462\n",
            "min         1.000000\n",
            "25%         3.000000\n",
            "50%         5.000000\n",
            "75%         5.000000\n",
            "max         5.000000\n"
          ]
        },
        {
          "data": {
            "image/png": "[encoded data removed]",
            "text/plain": [
              "<Figure size 1000x500 with 1 Axes>"
            ]
          },
          "metadata": {},
          "output_type": "display_data"
        },
        {
          "name": "stdout",
          "output_type": "stream",
          "text": [
            "90th Percentile Length: 334.0\n",
            "Minimum Length: 1\n",
            "Maximum Length: 10565\n",
            "Mean Length: 147.7904721538798\n",
            "Median Length: 88.0\n",
            "Review with Minimum Length:\n",
            " A\n",
            "\n",
            "Review with Maximum Length:\n",
            " this product is just so amazing and terrific and I love it a lot it truly is just a terrific product and I would probably order it again that great I love all of its features and it's attribute you just terrific and it's great quality to do real bang for your buck if you know what I mean I'd recommend this product to my close friends too it's very good. it's a great product good price terrific buy with great features and qualities that make it appear year to all others and it's genre I really like the product and I would buy it again it just product and a real bang for your buck! this product is just so amazing and terrific and I love it a lot it truly is just a terrific product and I would probably order it again that great I love all of its features and it's attribute you just terrific and it's great quality to do real bang for your buck if you know what I mean I'd recommend this product to my close friends too it's very good. it's a great product good price terrific buy with great features and qualities that make it appear year to all others and it's genre I really like the product and I would buy it again it just product and a real bang for your buck! this product is just so amazing and terrific and I love it a lot it truly is just a terrific product and I would probably order it again that great I love all of its features and it's attribute you just terrific and it's great quality to do real bang for your buck if you know what I mean I'd recommend this product to my close friends too it's very good. it's a great product good price terrific buy with great features and qualities that make it appear year to all others and it's genre I really like the product and I would buy it again it just product and a real bang for your buck! this product is just so amazing and terrific and I love it a lot it truly is just a terrific product and I would probably order it again that great I love all of its features and it's attribute you just terrific and it's great quality to do real bang for your buck if you know what I mean I'd recommend this product to my close friends too it's very good. it's a great product good price terrific buy with great features and qualities that make it appear year to all others and it's genre I really like the product and I would buy it again it just product and a real bang for your buck! this product is just so amazing and terrific and I love it a lot it truly is just a terrific product and I would probably order it again that great I love all of its features and it's attribute you just terrific and it's great quality to do real bang for your buck if you know what I mean I'd recommend this product to my close friends too it's very good. it's a great product good price terrific buy with great features and qualities that make it appear year to all others and it's genre I really like the product and I would buy it again it just product and a real bang for your buck! this product is just so amazing and terrific and I love it a lot it truly is just a terrific product and I would probably order it again that great I love all of its features and it's attribute you just terrific and it's great quality to do real bang for your buck if you know what I mean I'd recommend this product to my close friends too it's very good. it's a great product good price terrific buy with great features and qualities that make it appear year to all others and it's genre I really like the product and I would buy it again it just product and a real bang for your buck! this product is just so amazing and terrific and I love it a lot it truly is just a terrific product and I would probably order it again that great I love all of its features and it's attribute you just terrific and it's great quality to do real bang for your buck if you know what I mean I'd recommend this product to my close friends too it's very good. it's a great product good price terrific buy with great features and qualities that make it appear year to all others and it's genre I really like the product and I would buy it again it just product and a real bang for your buck! this product is just so amazing and terrific and I love it a lot it truly is just a terrific product and I would probably order it again that great I love all of its features and it's attribute you just terrific and it's great quality to do real bang for your buck if you know what I mean I'd recommend this product to my close friends too it's very good. it's a great product good price terrific buy with great features and qualities that make it appear year to all others and it's genre I really like the product and I would buy it again it just product and a real bang for your buck! this product is just so amazing and terrific and I love it a lot it truly is just a terrific product and I would probably order it again that great I love all of its features and it's attribute you just terrific and it's great quality to do real bang for your buck if you know what I mean I'd recommend this product to my close friends too it's very good. it's a great product good price terrific buy with great features and qualities that make it appear year to all others and it's genre I really like the product and I would buy it again it just product and a real bang for your buck! this product is just so amazing and terrific and I love it a lot it truly is just a terrific product and I would probably order it again that great I love all of its features and it's attribute you just terrific and it's great quality to do real bang for your buck if you know what I mean I'd recommend this product to my close friends too it's very good. it's a great product good price terrific buy with great features and qualities that make it appear year to all others and it's genre I really like the product and I would buy it again it just product and a real bang for your buck! this product is just so amazing and terrific and I love it a lot it truly is just a terrific product and I would probably order it again that great I love all of its features and it's attribute you just terrific and it's great quality to do real bang for your buck if you know what I mean I'd recommend this product to my close friends too it's very good. it's a great product good price terrific buy with great features and qualities that make it appear year to all others and it's genre I really like the product and I would buy it again it just product and a real bang for your buck! this product is just so amazing and terrific and I love it a lot it truly is just a terrific product and I would probably order it again that great I love all of its features and it's attribute you just terrific and it's great quality to do real bang for your buck if you know what I mean I'd recommend this product to my close friends too it's very good. it's a great product good price terrific buy with great features and qualities that make it appear year to all others and it's genre I really like the product and I would buy it again it just product and a real bang for your buck! this product is just so amazing and terrific and I love it a lot it truly is just a terrific product and I would probably order it again that great I love all of its features and it's attribute you just terrific and it's great quality to do real bang for your buck if you know what I mean I'd recommend this product to my close friends too it's very good. it's a great product good price terrific buy with great features and qualities that make it appear year to all others and it's genre I really like the product and I would buy it again it just product and a real bang for your buck! this product is just so amazing and terrific and I love it a lot it truly is just a terrific product and I would probably order it again that great I love all of its features and it's attribute you just terrific and it's great quality to do real bang for your buck if you know what I mean I'd recommend this product to my close friends too it's very good. it's a great product good price terrific buy with great features and qualities that make it appear year to all others and it's genre I really like the product and I would buy it again it just product and a real bang for your buck! this product is just so amazing and terrific and I love it a lot it truly is just a terrific product and I would probably order it again that great I love all of its features and it's attribute you just terrific and it's great quality to do real bang for your buck if you know what I mean I'd recommend this product to my close friends too it's very good. it's a great product good price terrific buy with great features and qualities that make it appear year to all others and it's genre I really like the product and I would buy it again it just product and a real bang for your buck! this product is just so amazing and terrific and I love it a lot it truly is just a terrific product and I would probably order it again that great I love all of its features and it's attribute you just terrific and it's great quality to do real bang for your buck if you know what I mean I'd recommend this product to my close friends too it's very good. it's a great product good price terrific buy with great features and qualities that make it appear year to all others and it's genre I really like the product and I would buy it again it just product and a real bang for your buck! this product is just so amazing and terrific and I love it a lot it truly is just a terrific product and I would probably order it again that great I love all of its features and it's attribute you just terrific and it's great quality to do real bang for your buck if you know what I mean I'd recommend this product to my close friends too it's very good. it's a great product good price terrific buy with great features and qualities that make it appear year to all others and it's genre I really like the product and I would buy it again it just product and a real bang for your buck! this product is just so amazing and terrific and I love it a lot it truly is just a terrific product and I would probably order it again that great I love all of its features and it's attribute you just terrific and it's great quality to do real bang for your buck if you know what I mean I'd recommend this product to my close friends too it's very good. it's a great product good price terrific buy with great features and qualities that make it appear year to all others and it's genre I really like the product and I would buy it again it just product and a real bang for your buck!\n"
          ]
        }
      ],
      "source": [
        "fashion_df = dataset_EDA_and_preprocessing(amazon_fashion_df)"
      ]
    },
    {
      "cell_type": "code",
      "execution_count": 14,
      "metadata": {},
      "outputs": [
        {
          "name": "stdout",
          "output_type": "stream",
          "text": [
            "Dataset before DropNA:\n",
            "            overall\n",
            "count  34278.00000\n",
            "mean       4.28616\n",
            "std        1.03736\n",
            "min        1.00000\n",
            "25%        4.00000\n",
            "50%        5.00000\n",
            "75%        5.00000\n",
            "max        5.00000\n",
            "\n",
            "Dataset after DropNA:\n",
            "             overall\n",
            "count  34265.000000\n",
            "mean       4.286181\n",
            "std        1.037412\n",
            "min        1.000000\n",
            "25%        4.000000\n",
            "50%        5.000000\n",
            "75%        5.000000\n",
            "max        5.000000\n"
          ]
        },
        {
          "data": {
            "image/png": "[encoded data removed]",
            "text/plain": [
              "<Figure size 1000x500 with 1 Axes>"
            ]
          },
          "metadata": {},
          "output_type": "display_data"
        },
        {
          "name": "stdout",
          "output_type": "stream",
          "text": [
            "90th Percentile Length: 1106.0\n",
            "Minimum Length: 2\n",
            "Maximum Length: 16970\n",
            "Mean Length: 489.144024514811\n",
            "Median Length: 321.0\n",
            "Review with Minimum Length:\n",
            " ok\n",
            "\n",
            "Review with Maximum Length:\n",
            " the loreal dermablend professional line of cosmetics is new to me.  they earn being in a high-end category in my opinion. they do not seem to be scented or too chemical. the jars, tubes, compacts are made very sturdy to last along with your make-ups. i have many favorites among them, yet i believe they all stand very well on their own.\n",
            "\n",
            "i hope it is going to be efficient to review all of the ones i know of here, and including compatible products along the way. respectively:\n",
            "\n",
            "1. l'oreal dermablend professional cover cr&egrave;me with titanium dioxide sunscreen (30spf):\n",
            "2. loreal dermablend professional translucent loose setting powder (no spf):\n",
            "3. loreal dermablend professional set + refresh long-lasting make-up setting spray (no spf):\n",
            "4. loreal dermablend professional smooth liquid camo medium cover foundation (25 spf):\n",
            "5. loreal dermablend professional intense powdercamo (no spf):\n",
            "6. loreal dermablend professional quick-fix body (no spf):\n",
            "7. loreal dermablend professional leg and body make-up (spf25):\n",
            "8. loreal dermablend quick-fix concealer stick (spf 30)\n",
            "\n",
            "i have been using loreal products since the 1980s when my best friend was wearing a frosted lipstick i liked and i later sought out.  it smelled good too. it was a truer color in my eyes, since many comparable brands were putting red tinges into the light pinks and such.  also, some of the loreal colors of lipsticks and eyeshadows were pearly, and i liked them because they looked very ethereal, as with the pink-violet lipstick that changed colors depending on the light.\n",
            "\n",
            "i have aged, and my last purchase was a loreal infallible product, one of many in a line which rarely or never need reapplication for my creased lids and bitten lips. i have been so obsessed that i have a whole zipper case full of the eyeshadows alone. i have a lot of products from their visible lift line for my skin texture. i especially enjoyed the blur ones.  now i am going to move on to have more choices in my zip bag.\n",
            "\n",
            "there has been more exposure with loreal in my experience than i can mention here, including most recently, a lovely reddish-brown shade of eyeshadow that stays put, a super-mascara, another lip paint, some face-tone enhancers, and a creamy-to-dry, light-colored eye light, among others.\n",
            "\n",
            "i am happy to see more high-end products from loreal that should work well for young and old alike, especially since it seemed to me years ago that their products were for my younger crowd.\n",
            "\n",
            "1. dermablend professional cover cr&egrave;me with titanium dioxide sunscreen (30spf):\n",
            "this is the first item in this line of dermablend cosmetics from loreal that ive received, and it is my very favorite.  it covers my skin imperfections well.\n",
            "\n",
            "my first attempt with it doesnt count, since i spread it very thin, allowing a bit of dermatitis i had at the time to show some dry skin through.  and i went out that night wondering why this was happening.  first of all, i thought i needed to get rid of the rash that was there before reapplying and reviewing this product, and second, i thought i needed to exfoliate since i have sun spots. now i get it.  this particular cr&egrave;me has to be built up gradually for me. and building it up judiciously is not problematic at all.  it is lovely.\n",
            "\n",
            "if i use a sponge applicator it will ruin one purpose of it for me which is to cover variable imperfections; and when i apply it with dab it appears blended, and i really find out how radiant and thorough a cover cream make-up can be.  it has alone a bit of chroma to it, as does dermablend pro smooth liquid camo medium cover foundation (25 spf),  in my opinion, unlike many other cover products i have used. alone, they gleaming the light more than my other cover make-ups, without chalkiness.  very nice.\n",
            "\n",
            "the other purpose for me is that it has a (30 spf) sunscreen.  all other cosmetics with sunscreen i have tried have (25 spf) or lower, and not my needed (30 spf) that my dermatologist recommends.  she has said that even in my home with shades closed i am exposing my skin to potential damage.  i score 1,000 % here for this as well as the other qualities of this line.\n",
            "\n",
            "the two colors i have are both medium ones, one a bit lighter, and both appropriate for me, especially my indulgence of mixing other lighter or darker colored loreal dermablend pro products with them.\n",
            "\n",
            "ive been feeling a bit like a chemist with the many loreal dermablend pro products listed here. and i realize you may not have this type of a menu, but i am hoping this info will help somehow to see the flexibility here if not anything else.\n",
            "\n",
            "2. loreal dermablend professional translucent loose setting powder (no spf):\n",
            "needed. the wonderful cr&egrave;mes i love work nicely with loreal dermablend professional translucent loose setting powder with micronized powder, and hides flaws when that is part of what you are going for.  this particular product is very fine, not grainy, and perhaps a bit creamy.  it definitely blends in well.  it is very nice for creating a thin and matte next barrier, keeping the cr&egrave;me, bases, foundations, from smudging to hands, clothing.  in various ways, i am able to get some creative looks i sought in using them together:\n",
            "\n",
            " dermablend pro translucent loose setting powder in my three separate medium shades (separate jars); when applied and then dusted off created light on dark or dark on light look as i so chose. a. what i mean is that with the lighter shade of cr&egrave;me i was able to get the same look with the darker powder, as with the opposite of that technique using the darker cr&egrave;me and a lighter powder. altogether, with these medium shades i was able to get a perfect match, thus prolonging my experience.  b. also, with the white translucent powder i have found that i am getting a more dimensional look by applying the light shade powder on certain areas of my face, and on top or around in certain areas like cheeks, nose, chin, forehead, i will carefully apply and lightly dust the medium-toned translucent powders as described, allowing it to not look quite so much like monotone matte over my sallow complexion.  another plus 1,000 for me.\n",
            "\n",
            "i have found recently that i need to put on fine dustings of all powders for myself.\n",
            "pick your poison, as i have purchased some powder and cr&egrave;me blushes before today; though you may find it unnecessary if you want the dimensional yet minimalist look.\n",
            "\n",
            "i like to play with the powders, yet, when i am in a rush i will make errors, not being subtle, and not dusting before other products.  also, i am 62, and my baggy under-eye application errors are the most noticeable. i get rid of this bagginess first.  i will use the powders now, especially with other lighter dermablend cr&egrave;me applications, or with the high-quality dermablend pro smooth liquid camo medium cover foundation (25 spf) listed below; and as well as their other foundations. all definitely for photos where a shine or two really counts.\n",
            "one thing that helps give a nice touch over the powders and such is the loreal dermablend professional set + refresh long-lasting make-up setting spray. the powders are probably quite wonderful for an oily skin type, for example; they are nice for a youthful complexion; and i believe they are going to look quite radiant on a woman with less-noticeable pores, and without wrinkle issues along with age and skin texture combined.  in my case i am fine, and safest when i am well-rested.\n",
            "\n",
            "3. loreal dermablend professional set + refresh long-lasting make-up setting spray (no spf):\n",
            "these dermablend base products are synergistically enhanced with a nice sheen of fresh with a spray application of loreal dermablend professional set + refresh long-lasting make-up setting spray. just lightly mist your face with your hair pulled back to enhance your look and seal your make-up applications.  even with dusted powders it will make a difference.  it is that simple.\n",
            "\n",
            "4. loreal dermablend professional smooth liquid camo medium cover foundation!! (25 spf):\n",
            "this a product that i had underestimated until today when i applied it under dermablend pro translucent loose setting powder, which may not be necessary if you want that chroma look; yet because i preferred the variable built-up applications i achieved with the dermablend professional cr&egrave;me, i missed something with trying this last.  as before i was too quick to judge.  i had applied it very thick and then i went out.  i thought to myself that is was mask-like, yet nice moist cover.\n",
            "\n",
            "not only can i variably apply this creamier product to cover the face and problem areas with my fingers, i can also use a sponge blender for a more airbrushed look, then applying more product to the flaws. this shade is a tad darker than the other shades of make-ups, so as with the cr&egrave;me, and the powders, i may experiment with altering the look as in 2a.  win-win-win.  i also may add a finishing touch of the dermablend professional set + refresh long-lasting make-up setting spray for a fresh stay; with or without powders.\n",
            "\n",
            "5. loreal dermablend professional intense powdercamo!! (no spf):\n",
            "this is a lovely and creamy intense powder in a nice mirrored compact with a sponge applicator, in other compartments.  while this color is quite dark for me, one quality, besides the products ability to render a thin cover layer, is that i do not see wrinkles really.  maybe the thin layer or the creaminess?  and the staying power, especially with the fresh mist of loreal dermablend professional set + refresh long-lasting make-up setting spray.  also, i can dab and smooth this powder wherever i want to whatever area of the face or neck.  the darker color, applied gently is making a nice bronzer.  i do know that is stretching it. i haven't tried it over the above loreal dermablend professional liquid camo product, since this is a very dark color; however, i am sure this might possibly work; though this does go on thin, and i do not think a cr&egrave;me or foundation is needed to get a good look. very nice camo cover product!\n",
            "\n",
            "6. loreal dermablend professional quick-fix body!! (no spf):\n",
            "wow again.  i hadnt understood at first how i can use this, as one of the colors i own is a darker bronze; and while i hadnt yet noticed the medium (my shade).  i mistakenly applied some of the dark under my cheekbones to see a defined look which actually worked for me, yet thick as i applied it - and silly me! i am thinking that since this product says body in the title it is going to be nice for use on varicose veins and other body imperfections like a permanent rash i have!  double win!\n",
            "\n",
            "this is a creamy roll-up stick cover product which does the job, and which i won't feel shy about adding puffs of dermablend professional translucent setting powder so it doesnt rub off; and i will use the appropriate color powder as well as described above in 2a.  this is a lovely product.  i love the idea of having a smooth body-skin look as with the generous tube of the wonderful, and long-lasting dermablend professional leg and body make-up; however, im mentioning this first as im partial to a more natural, yet youthful, less unsightly look.  it isn't quite going to be looking as flawlessly airbrushed as the full body make-up, yet it is the product i will use first; especially during the day. love.\n",
            "\n",
            "7. loreal dermablend professional leg and body make-up (spf25):\n",
            "it is so nice to wear tights, stockings, or nylons during the winter to have confidence that leg imperfections will not be seen with dresses, and on ankles under pants above boots.  however, during cooler months especially, it is very nice to see perfect body skin peeking out of your clothing.  not only does this product render a flawless airbrushed look, it is actually very resistant to liquid or rubbing off onto hands or clothing.  i absolutely loved the look when i put it on; and then darn, i was noticing in the light that my shade was a bit peachier than my actual sallow skin.  this might not be problematic for you with full-body applications, as for me on an occasional basis as desired; yet finding your closest match will save you a lot of bother, and will please you i believe.  as i have expressed that this product renders a nice, airbrushed look, and i believe even because of the staying power alone this dermablend pro product is worth looking into.\n",
            "\n",
            "8. loreal dermablend quick-fix concealer stick (spf 30)\n",
            "this works fabulously; it is creamy and it stays put; it is smart just as the loreal dermablend professional cover cr&egrave;me, because it has that strength of sunscreen that my dermatologist recommends, even as i am in my home, shades drawn.  it covers very well, looks flawless with or without other products, yet it works synergistically with the wonderful loreal dermablend pro line. i have it in a tan color, and i would have thought since i usually use lighter shades of concealers that it would not have looked so perfect with my medium skin. lovely. plus 1,000, and very smart.\n",
            "\n",
            "very nice products indeed.  enjoy!\n",
            "\n",
            "the loreal dermablend professional line of cosmetics is new to me.  they earn being in a high-end category in my opinion. they do not seem to be scented or too chemical. the jars, tubes, compacts are made very sturdy to last along with your make-ups. i have many favorites among them, yet i believe they all stand very well on their own.\n",
            "\n",
            "i hope it is going to be efficient to review all of the ones i know of here, and including compatible products along the way. respectively:\n",
            "\n",
            "1. dermablend professional cover cr&egrave;me with titanium dioxide sunscreen (30spf):\n",
            "2. loreal dermablend professional translucent loose setting powder (no spf):\n",
            "3. loreal dermablend professional set + refresh long-lasting make-up setting spray (no spf):\n",
            "4. loreal dermablend professional smooth liquid camo medium cover foundation (25 spf):\n",
            "5. loreal dermablend professional intense powdercamo (no spf):\n",
            "6. loreal dermablend professional quick-fix body (no spf):\n",
            "7. loreal dermablend professional leg and body make-up (spf25):\n",
            "8. loreal dermablend quick-fix concealer stick (spf 30)\n",
            "\n",
            "i have been using loreal products since the 1980s when my best friend was wearing a frosted lipstick i liked and i later sought out.  it smelled good too. it was a truer color in my eyes, since many comparable brands were putting red tinges into the light pinks and such.  also, some of the loreal colors of lipsticks and eyeshadows were pearly, and i liked them because they looked very ethereal, as with the pink-violet lipstick that changed colors depending on the light.\n",
            "i have aged, and my last purchase was a loreal infallible product, one of many in a line which rarely or never need reapplication for my creased lids and bitten lips. i have been so obsessed that i have a whole zipper case full of the eyeshadows alone. i have a lot of products from their visible lift line for my skin texture. i especially enjoyed the blur ones.  now i am going to move on to have more choices in my zip bag.\n",
            "there has been more exposure with loreal in my experience than i can mention here, including most recently, a lovely reddish-brown shade of eyeshadow that stays put, a super-mascara, another lip paint, some face-tone enhancers, and a creamy-to-dry, light-colored eye light, among others.\n",
            "i am happy to see more high-end products from loreal that should work well for young and old alike, especially since it seemed to me years ago that their products were for my younger crowd.\n",
            "\n",
            "1. dermablend cover cr&egrave;me with titanium dioxide sunscreen!! (30spf):\n",
            "this is the first item in this line of dermablend cosmetics from loreal that ive received, and it is my very favorite.  it covers my skin imperfections well.\n",
            "my first attempt with it doesnt count, since i spread it very thin, allowing a bit of dermatitis i had at the time to show some dry skin through.  and i went out that night wondering why this was happening.  first of all, i thought i needed to get rid of the rash that was there before reapplying and reviewing this product, and second, i thought i needed to exfoliate since i have sun spots. now i get it.  this particular cr&egrave;me has to be built up gradually for me. and building it up judiciously is not problematic at all.  it is lovely.\n",
            "if i use a sponge applicator it will ruin one purpose of it for me which is to cover variable imperfections; and when i apply it with dab it appears blended, and i really find out how radiant and thorough a cover cream make-up can be.  it has alone a bit of chroma to it, as does dermablend pro smooth liquid camo medium cover foundation (25 spf),  in my opinion, unlike many other cover products i have used. alone, they gleaming the light more than my other cover make-ups, without chalkiness.  very nice.\n",
            "the other purpose for me is that it has a (30 spf) sunscreen.  all other cosmetics with sunscreen i have tried have (25 spf) or lower, and not my needed (30 spf) that my dermatologist recommends.\n"
          ]
        }
      ],
      "source": [
        "luxury_testset = dataset_EDA_and_preprocessing(luxury_df)"
      ]
    },
    {
      "cell_type": "markdown",
      "metadata": {},
      "source": [
        "Both datasets are very imbalanced. The training and validation set will be balanced."
      ]
    },
    {
      "cell_type": "code",
      "execution_count": 16,
      "metadata": {
        "colab": {
          "base_uri": "https://localhost:8080/"
        },
        "id": "5-cX8xdJKbKq",
        "outputId": "24763d48-7256-47b7-a0ad-feb517fc602e"
      },
      "outputs": [
        {
          "name": "stdout",
          "output_type": "stream",
          "text": [
            "overall\n",
            "5    10000\n",
            "2    10000\n",
            "4    10000\n",
            "3    10000\n",
            "1    10000\n",
            "Name: count, dtype: int64\n"
          ]
        }
      ],
      "source": [
        "balanced_df = balance_dataset(fashion_df, 10000)\n"
      ]
    },
    {
      "cell_type": "code",
      "execution_count": 17,
      "metadata": {
        "id": "qZDnrDALrck5"
      },
      "outputs": [],
      "source": [
        "# Defining the target variable\n",
        "y = balanced_df['overall']\n",
        "\n",
        "# Split the data into training and validation sets\n",
        "df_xtrain, df_xval, df_ytrain, df_yval = train_test_split(balanced_df, y, test_size=0.1, random_state=42, stratify=y)\n",
        "df_xtrain = df_xtrain.reset_index(drop=True)\n",
        "df_xval = df_xval.reset_index(drop=True)\n",
        "df_ytrain = df_ytrain.reset_index(drop=True)\n",
        "df_yval = df_yval.reset_index(drop=True)"
      ]
    },
    {
      "cell_type": "code",
      "execution_count": 18,
      "metadata": {},
      "outputs": [],
      "source": [
        "y_test = luxury_testset['overall']\n",
        "x_test = luxury_testset['reviewText']\n"
      ]
    },
    {
      "cell_type": "code",
      "execution_count": null,
      "metadata": {},
      "outputs": [],
      "source": [
        "print(x_test.head())\n",
        "print(y_test.head())\n",
        "\n",
        "print(len(df_xtrain), len(df_xval), len(x_test), len(y_test))"
      ]
    },
    {
      "cell_type": "code",
      "execution_count": 19,
      "metadata": {
        "colab": {
          "base_uri": "https://localhost:8080/"
        },
        "id": "tbmJlLvtRGP3",
        "outputId": "00bf3e68-6f47-4c78-d41e-892cfef87927"
      },
      "outputs": [
        {
          "data": {
            "text/plain": [
              "array(['', '[UNK]', 'the', 'i', 'and', 'a', 'it', 'to', 'is', 'for', 'my',\n",
              "       'of', 'but', 'in', 'was', 'not', 'this', 'they', 'on', 'that'],\n",
              "      dtype='<U25')"
            ]
          },
          "execution_count": 19,
          "metadata": {},
          "output_type": "execute_result"
        }
      ],
      "source": [
        "max_tokens = 4000\n",
        "sentence_length = 400 #around the length of the 90th percentile\n",
        "encoder = tf.keras.layers.TextVectorization(\n",
        "    max_tokens=max_tokens,\n",
        "    output_mode='int',  # This ensures the output is an integer sequence\n",
        "    output_sequence_length=sentence_length)  # Specify the desired output sequence length\n",
        "\n",
        "encoder.adapt(df_xtrain['reviewText'].values)  # Use values instead of map for a NumPy array\n",
        "\n",
        "vocab = np.array(encoder.get_vocabulary())\n",
        "vocab[:20]"
      ]
    },
    {
      "cell_type": "code",
      "execution_count": 20,
      "metadata": {
        "id": "BBBk-fa0T-hK"
      },
      "outputs": [],
      "source": [
        "# Convert target data to one-hot encoding for multi-class classification\n",
        "# Convert target data to one-hot encoding for multi-class classification\n",
        "df_ytrain_one_hot = tf.keras.utils.to_categorical(df_ytrain - 1, num_classes=5)\n",
        "df_yval_one_hot = tf.keras.utils.to_categorical(df_yval - 1, num_classes=5)\n",
        "\n",
        "y_test_one_hot = tf.keras.utils.to_categorical(y_test-1, num_classes=5)"
      ]
    },
    {
      "cell_type": "code",
      "execution_count": null,
      "metadata": {
        "colab": {
          "base_uri": "https://localhost:8080/",
          "height": 418
        },
        "id": "99V4W2HEdHRP",
        "outputId": "fc59d620-b0bd-43c7-af0c-7c77d573a9e8"
      },
      "outputs": [],
      "source": [
        "tf.keras.backend.clear_session()\n",
        "wandb.init(project= 'RNN Experiments 1',\n",
        "           name = 'Bidi LSTM(16),1 layer,')\n",
        "model = tf.keras.Sequential([\n",
        "    encoder,\n",
        "    tf.keras.layers.Embedding(\n",
        "        input_dim=len(encoder.get_vocabulary()),\n",
        "        output_dim=16,\n",
        "        # Use masking to handle the variable sequence lengths\n",
        "        mask_zero=True),\n",
        "    tf.keras.layers.Bidirectional(tf.keras.layers.LSTM(16)),\n",
        "    tf.keras.layers.Dense(16, activation='relu'),\n",
        "    tf.keras.layers.Dense(5, activation='softmax')\n",
        "])\n",
        "\n",
        "model.compile(optimizer='adam',\n",
        "              loss='categorical_crossentropy',\n",
        "              metrics=['accuracy','AUC','Precision','Recall'])\n",
        "\n",
        "history = model.fit(\n",
        "    df_xtrain['reviewText'],\n",
        "    df_ytrain_one_hot,\n",
        "    epochs=10,\n",
        "    validation_data=(df_xval['reviewText'], df_yval_one_hot),\n",
        "    callbacks = [WandbCallback()])"
      ]
    },
    {
      "cell_type": "code",
      "execution_count": null,
      "metadata": {},
      "outputs": [],
      "source": [
        "tf.keras.backend.clear_session()\n",
        "wandb.init(project= 'RNN Experiments 1',\n",
        "           name = 'Bidi GRU(256),Embedding = 256, T = 2000, L=400')\n",
        "\n",
        "model = tf.keras.Sequential([\n",
        "    encoder,\n",
        "    tf.keras.layers.Embedding(\n",
        "        input_dim=len(encoder.get_vocabulary()),\n",
        "        output_dim=256,\n",
        "        mask_zero=True),\n",
        "    tf.keras.layers.Bidirectional(tf.keras.layers.GRU(256)),\n",
        "    tf.keras.layers.Dense(256, activation='relu'),\n",
        "    tf.keras.layers.Dense(5, activation='softmax')\n",
        "])\n",
        "\n",
        "\n",
        "model.summary()\n",
        "\n",
        "model.compile(optimizer='adam',\n",
        "              loss='categorical_crossentropy',\n",
        "              metrics=['accuracy','AUC','Precision','Recall'])\n",
        "\n",
        "history = model.fit(\n",
        "    df_xtrain['reviewText'],\n",
        "    df_ytrain_one_hot,\n",
        "    epochs=30,\n",
        "    validation_data=(df_xval['reviewText'], df_yval_one_hot),\n",
        "    callbacks = [WandbCallback()])"
      ]
    },
    {
      "cell_type": "code",
      "execution_count": null,
      "metadata": {},
      "outputs": [],
      "source": [
        "tf.keras.backend.clear_session()\n",
        "wandb.init(project= 'RNN Experiments 1',\n",
        "           name = 'Bidi GRU(512),Embedding = 256, T = 2000, L=400')\n",
        "\n",
        "model = tf.keras.Sequential([\n",
        "    encoder,\n",
        "    tf.keras.layers.Embedding(\n",
        "        input_dim=len(encoder.get_vocabulary()),\n",
        "        output_dim=256,\n",
        "        mask_zero=True),\n",
        "    tf.keras.layers.Bidirectional(tf.keras.layers.GRU(512)),\n",
        "    tf.keras.layers.Dense(512, activation='relu'),\n",
        "    tf.keras.layers.Dense(5, activation='softmax')\n",
        "])\n",
        "\n",
        "\n",
        "model.summary()\n",
        "\n",
        "model.compile(optimizer='adam',\n",
        "              loss='categorical_crossentropy',\n",
        "              metrics=['accuracy','AUC','Precision','Recall'])\n",
        "\n",
        "history = model.fit(\n",
        "    df_xtrain['reviewText'],\n",
        "    df_ytrain_one_hot,\n",
        "    epochs=30,\n",
        "    validation_data=(df_xval['reviewText'], df_yval_one_hot),\n",
        "    callbacks = [WandbCallback()])"
      ]
    },
    {
      "cell_type": "code",
      "execution_count": null,
      "metadata": {},
      "outputs": [],
      "source": [
        "tf.keras.backend.clear_session()\n",
        "wandb.init(project= 'RNN Experiments 1',\n",
        "           name = 'Bidi GRU(512),Embedding = 512, T = 2000, L=400')\n",
        "\n",
        "model = tf.keras.Sequential([\n",
        "    encoder,\n",
        "    tf.keras.layers.Embedding(\n",
        "        input_dim=len(encoder.get_vocabulary()),\n",
        "        output_dim=512,\n",
        "        mask_zero=True),\n",
        "    tf.keras.layers.Bidirectional(tf.keras.layers.GRU(512)),\n",
        "    tf.keras.layers.Dense(512, activation='relu'),\n",
        "    tf.keras.layers.Dense(5, activation='softmax')\n",
        "])\n",
        "\n",
        "\n",
        "model.summary()\n",
        "\n",
        "model.compile(optimizer='adam',\n",
        "              loss='categorical_crossentropy',\n",
        "              metrics=['accuracy','AUC','Precision','Recall'])\n",
        "\n",
        "history = model.fit(\n",
        "    df_xtrain['reviewText'],\n",
        "    df_ytrain_one_hot,\n",
        "    epochs=30,\n",
        "    validation_data=(df_xval['reviewText'], df_yval_one_hot),\n",
        "    callbacks = [WandbCallback()])"
      ]
    },
    {
      "cell_type": "code",
      "execution_count": null,
      "metadata": {},
      "outputs": [],
      "source": [
        "tf.keras.backend.clear_session()\n",
        "wandb.init(project= 'RNN Experiments 1',\n",
        "           name = 'Bidi GRU(256),Embedding = 512, T = 2000, L=400')\n",
        "\n",
        "model = tf.keras.Sequential([\n",
        "    encoder,\n",
        "    tf.keras.layers.Embedding(\n",
        "        input_dim=len(encoder.get_vocabulary()),\n",
        "        output_dim=512,\n",
        "        mask_zero=True),\n",
        "    tf.keras.layers.Bidirectional(tf.keras.layers.GRU(256)),\n",
        "    tf.keras.layers.Dense(512, activation='relu'),\n",
        "    tf.keras.layers.Dense(5, activation='softmax')\n",
        "])\n",
        "\n",
        "\n",
        "model.summary()\n",
        "\n",
        "model.compile(optimizer='adam',\n",
        "              loss='categorical_crossentropy',\n",
        "              metrics=['accuracy','AUC','Precision','Recall'])\n",
        "\n",
        "history = model.fit(\n",
        "    df_xtrain['reviewText'],\n",
        "    df_ytrain_one_hot,\n",
        "    epochs=30,\n",
        "    validation_data=(df_xval['reviewText'], df_yval_one_hot),\n",
        ")"
      ]
    },
    {
      "cell_type": "code",
      "execution_count": null,
      "metadata": {},
      "outputs": [],
      "source": [
        "tf.keras.backend.clear_session()\n",
        "wandb.init(project= 'RNN Experiments 1',\n",
        "           name = 'GRU(256),Embedding = 256, T = 2000, L=400')\n",
        "\n",
        "model = tf.keras.Sequential([\n",
        "    encoder,\n",
        "    tf.keras.layers.Embedding(\n",
        "        input_dim=len(encoder.get_vocabulary()),\n",
        "        output_dim=256,\n",
        "        mask_zero=True),\n",
        "    tf.keras.layers.GRU(256),\n",
        "    tf.keras.layers.Dense(256, activation='relu'),\n",
        "    tf.keras.layers.Dense(5, activation='softmax')\n",
        "])\n",
        "\n",
        "\n",
        "model.summary()\n",
        "\n",
        "model.compile(optimizer='adam',\n",
        "              loss='categorical_crossentropy',\n",
        "              metrics=['accuracy','AUC','Precision','Recall'])\n",
        "\n",
        "history = model.fit(\n",
        "    df_xtrain['reviewText'],\n",
        "    df_ytrain_one_hot,\n",
        "    epochs=30,\n",
        "    validation_data=(df_xval['reviewText'], df_yval_one_hot),\n",
        "    callbacks = [WandbCallback()])"
      ]
    },
    {
      "cell_type": "code",
      "execution_count": null,
      "metadata": {},
      "outputs": [],
      "source": [
        "tf.keras.backend.clear_session()\n",
        "wandb.init(project= 'RNN Experiments 1',\n",
        "           name = 'GRU(512),Embedding = 256, T = 2000, L=400')\n",
        "\n",
        "model = tf.keras.Sequential([\n",
        "    encoder,\n",
        "    tf.keras.layers.Embedding(\n",
        "        input_dim=len(encoder.get_vocabulary()),\n",
        "        output_dim=256,\n",
        "        mask_zero=True),\n",
        "    tf.keras.layers.GRU(512),\n",
        "    tf.keras.layers.Dense(512, activation='relu'),\n",
        "    tf.keras.layers.Dense(5, activation='softmax')\n",
        "])\n",
        "\n",
        "\n",
        "model.summary()\n",
        "\n",
        "model.compile(optimizer='adam',\n",
        "              loss='categorical_crossentropy',\n",
        "              metrics=['accuracy','AUC','Precision','Recall'])\n",
        "\n",
        "history = model.fit(\n",
        "    df_xtrain['reviewText'],\n",
        "    df_ytrain_one_hot,\n",
        "    epochs=30,\n",
        "    validation_data=(df_xval['reviewText'], df_yval_one_hot),\n",
        "    callbacks = [WandbCallback()])"
      ]
    },
    {
      "cell_type": "code",
      "execution_count": null,
      "metadata": {},
      "outputs": [],
      "source": [
        "tf.keras.backend.clear_session()\n",
        "wandb.init(project= 'RNN Experiments 1',\n",
        "           name = 'GRU(256),Embedding = 512, T = 2000, L=400')\n",
        "\n",
        "model = tf.keras.Sequential([\n",
        "    encoder,\n",
        "    tf.keras.layers.Embedding(\n",
        "        input_dim=len(encoder.get_vocabulary()),\n",
        "        output_dim=512,\n",
        "        mask_zero=True),\n",
        "    tf.keras.layers.GRU(256),\n",
        "    tf.keras.layers.Dense(256, activation='relu'),\n",
        "    tf.keras.layers.Dense(5, activation='softmax')\n",
        "])\n",
        "\n",
        "\n",
        "model.summary()\n",
        "\n",
        "model.compile(optimizer='adam',\n",
        "              loss='categorical_crossentropy',\n",
        "              metrics=['accuracy','AUC','Precision','Recall'])\n",
        "\n",
        "history = model.fit(\n",
        "    df_xtrain['reviewText'],\n",
        "    df_ytrain_one_hot,\n",
        "    epochs=30,\n",
        "    validation_data=(df_xval['reviewText'], df_yval_one_hot),\n",
        "    callbacks = [WandbCallback()])"
      ]
    },
    {
      "cell_type": "code",
      "execution_count": null,
      "metadata": {},
      "outputs": [],
      "source": [
        "tf.keras.backend.clear_session()\n",
        "wandb.init(project= 'RNN Experiments 1',\n",
        "           name = 'GRU(512),Embedding = 512, T = 2000, L=400')\n",
        "\n",
        "model = tf.keras.Sequential([\n",
        "    encoder,\n",
        "    tf.keras.layers.Embedding(\n",
        "        input_dim=len(encoder.get_vocabulary()),\n",
        "        output_dim=512,\n",
        "        mask_zero=True),\n",
        "    tf.keras.layers.GRU(512),\n",
        "    tf.keras.layers.Dense(256, activation='relu'),\n",
        "    tf.keras.layers.Dense(5, activation='softmax')\n",
        "])\n",
        "\n",
        "\n",
        "model.summary()\n",
        "\n",
        "model.compile(optimizer='adam',\n",
        "              loss='categorical_crossentropy',\n",
        "              metrics=['accuracy','AUC','Precision','Recall'])\n",
        "\n",
        "history = model.fit(\n",
        "    df_xtrain['reviewText'],\n",
        "    df_ytrain_one_hot,\n",
        "    epochs=30,\n",
        "    validation_data=(df_xval['reviewText'], df_yval_one_hot),\n",
        "  )"
      ]
    },
    {
      "cell_type": "code",
      "execution_count": null,
      "metadata": {},
      "outputs": [],
      "source": [
        "tf.keras.backend.clear_session()\n",
        "wandb.init(project= 'RNN Experiments 1',\n",
        "           name = 'Bidi GRU(512),GRU(512),Embedding = 512, T = 4000, L=400')\n",
        "\n",
        "model = tf.keras.Sequential([\n",
        "    encoder,\n",
        "    tf.keras.layers.Embedding(\n",
        "        input_dim=len(encoder.get_vocabulary()),\n",
        "        output_dim=512,\n",
        "        mask_zero=True),\n",
        "    tf.keras.layers.Bidirectional(tf.keras.layers.GRU(512, return_sequences=True)),\n",
        "    tf.keras.layers.Bidirectional(tf.keras.layers.GRU(512)),\n",
        "    tf.keras.layers.Dense(512, activation='relu'),\n",
        "    tf.keras.layers.Dense(5, activation='softmax')\n",
        "])\n",
        "\n",
        "\n",
        "model.summary()\n",
        "\n",
        "model.compile(optimizer='adam',\n",
        "              loss='categorical_crossentropy',\n",
        "              metrics=['accuracy','AUC','Precision','Recall'])\n",
        "\n",
        "history = model.fit(\n",
        "    df_xtrain['reviewText'],\n",
        "    df_ytrain_one_hot,\n",
        "    epochs=30,\n",
        "    validation_data=(df_xval['reviewText'], df_yval_one_hot),\n",
        "    callbacks = [WandbCallback()])"
      ]
    },
    {
      "cell_type": "code",
      "execution_count": null,
      "metadata": {},
      "outputs": [],
      "source": [
        "tf.keras.backend.clear_session()\n",
        "wandb.init(project= 'RNN Experiments 1',\n",
        "           name = 'GRU(512),GRU(512),Embedding = 512, T = 2000, L=200')\n",
        "\n",
        "model = tf.keras.Sequential([\n",
        "    encoder,\n",
        "    tf.keras.layers.Embedding(\n",
        "        input_dim=len(encoder.get_vocabulary()),\n",
        "        output_dim=512,\n",
        "        mask_zero=True),\n",
        "    tf.keras.layers.GRU(512, return_sequences=True),\n",
        "    tf.keras.layers.GRU(512),\n",
        "    tf.keras.layers.Dense(512, activation='relu'),\n",
        "    tf.keras.layers.Dense(5, activation='softmax')\n",
        "])\n",
        "\n",
        "\n",
        "model.summary()\n",
        "\n",
        "model.compile(optimizer='adam',\n",
        "              loss='categorical_crossentropy',\n",
        "              metrics=['accuracy','AUC','Precision','Recall'])\n",
        "\n",
        "history = model.fit(\n",
        "    df_xtrain['reviewText'],\n",
        "    df_ytrain_one_hot,\n",
        "    epochs=30,\n",
        "    validation_data=(df_xval['reviewText'], df_yval_one_hot),\n",
        "    callbacks = [WandbCallback()])"
      ]
    },
    {
      "cell_type": "code",
      "execution_count": null,
      "metadata": {},
      "outputs": [],
      "source": [
        "tf.keras.backend.clear_session()\n",
        "wandb.init(project= 'RNN Experiments 1',\n",
        "           name = '100perc. fashion data, GRU(512),Dropout,Embedding = 512, T = 2000, L=400')\n",
        "\n",
        "model = tf.keras.Sequential([\n",
        "    encoder,\n",
        "    tf.keras.layers.Embedding(\n",
        "        input_dim=len(encoder.get_vocabulary()),\n",
        "        output_dim=512,\n",
        "        mask_zero=True),\n",
        "    tf.keras.layers.Dropout(0.2),\n",
        "    tf.keras.layers.GRU(512),\n",
        "    tf.keras.layers.Dense(512, activation='relu'),\n",
        "    tf.keras.layers.Dense(5, activation='softmax')\n",
        "])\n",
        "\n",
        "\n",
        "model.summary()\n",
        "\n",
        "model.compile(optimizer='adam',\n",
        "              loss='categorical_crossentropy',\n",
        "              metrics=['accuracy','AUC','Precision','Recall'])\n",
        "\n",
        "history = model.fit(\n",
        "    df_xtrain['reviewText'],\n",
        "    df_ytrain_one_hot,\n",
        "    epochs=30,\n",
        "    validation_data=(df_xval['reviewText'], df_yval_one_hot),\n",
        "    callbacks = [WandbCallback()])"
      ]
    },
    {
      "cell_type": "code",
      "execution_count": null,
      "metadata": {},
      "outputs": [],
      "source": [
        "tf.keras.backend.clear_session()\n",
        "wandb.init(project= 'RNN Experiments 1',\n",
        "           name = 'Bidi GRU(512),Dropout,Embedding = 512, T = 2000, L=400')\n",
        "\n",
        "model = tf.keras.Sequential([\n",
        "    encoder,\n",
        "    tf.keras.layers.Embedding(\n",
        "        input_dim=len(encoder.get_vocabulary()),\n",
        "        output_dim=512,\n",
        "        mask_zero=True),\n",
        "    tf.keras.layers.Dropout(0.2),\n",
        "    tf.keras.layers.Bidirectional(tf.keras.layers.GRU(512)),\n",
        "    tf.keras.layers.Dense(512, activation='relu'),\n",
        "    tf.keras.layers.Dense(5, activation='softmax')\n",
        "])\n",
        "\n",
        "\n",
        "model.summary()\n",
        "\n",
        "model.compile(optimizer='adam',\n",
        "              loss='categorical_crossentropy',\n",
        "              metrics=['accuracy','AUC','Precision','Recall'])\n",
        "\n",
        "history = model.fit(\n",
        "    df_xtrain['reviewText'],\n",
        "    df_ytrain_one_hot,\n",
        "    epochs=30,\n",
        "    validation_data=(df_xval['reviewText'], df_yval_one_hot),\n",
        "    callbacks = [WandbCallback()])"
      ]
    },
    {
      "cell_type": "markdown",
      "metadata": {},
      "source": [
        "Below code block trains our final model and saves it. "
      ]
    },
    {
      "cell_type": "code",
      "execution_count": 21,
      "metadata": {},
      "outputs": [
        {
          "name": "stderr",
          "output_type": "stream",
          "text": [
            "Failed to detect the name of this notebook, you can set it manually with the WANDB_NOTEBOOK_NAME environment variable to enable code saving.\n",
            "\u001b[34m\u001b[1mwandb\u001b[0m: Currently logged in as: \u001b[33mnsjensen\u001b[0m (\u001b[33marghstress\u001b[0m). Use \u001b[1m`wandb login --relogin`\u001b[0m to force relogin\n"
          ]
        },
        {
          "data": {
            "text/html": [
              "wandb version 0.16.2 is available!  To upgrade, please run:\n",
              " $ pip install wandb --upgrade"
            ],
            "text/plain": [
              "<IPython.core.display.HTML object>"
            ]
          },
          "metadata": {},
          "output_type": "display_data"
        },
        {
          "data": {
            "text/html": [
              "Tracking run with wandb version 0.16.1"
            ],
            "text/plain": [
              "<IPython.core.display.HTML object>"
            ]
          },
          "metadata": {},
          "output_type": "display_data"
        },
        {
          "data": {
            "text/html": [
              "Run data is saved locally in <code>c:\\Users\\nille\\Documents\\GitHub\\amlexam\\wandb\\run-20240130_205758-26ryt87j</code>"
            ],
            "text/plain": [
              "<IPython.core.display.HTML object>"
            ]
          },
          "metadata": {},
          "output_type": "display_data"
        },
        {
          "data": {
            "text/html": [
              "Syncing run <strong><a href='https://wandb.ai/arghstress/RNN%20Experiments%201/runs/26ryt87j' target=\"_blank\">FINAL MODEL: 10.000 per rating train, Bidi GRU(512),Bidi GRU(512),Embedding = 512, T = 4000, L=400</a></strong> to <a href='https://wandb.ai/arghstress/RNN%20Experiments%201' target=\"_blank\">Weights & Biases</a> (<a href='https://wandb.me/run' target=\"_blank\">docs</a>)<br/>"
            ],
            "text/plain": [
              "<IPython.core.display.HTML object>"
            ]
          },
          "metadata": {},
          "output_type": "display_data"
        },
        {
          "data": {
            "text/html": [
              " View project at <a href='https://wandb.ai/arghstress/RNN%20Experiments%201' target=\"_blank\">https://wandb.ai/arghstress/RNN%20Experiments%201</a>"
            ],
            "text/plain": [
              "<IPython.core.display.HTML object>"
            ]
          },
          "metadata": {},
          "output_type": "display_data"
        },
        {
          "data": {
            "text/html": [
              " View run at <a href='https://wandb.ai/arghstress/RNN%20Experiments%201/runs/26ryt87j' target=\"_blank\">https://wandb.ai/arghstress/RNN%20Experiments%201/runs/26ryt87j</a>"
            ],
            "text/plain": [
              "<IPython.core.display.HTML object>"
            ]
          },
          "metadata": {},
          "output_type": "display_data"
        },
        {
          "name": "stdout",
          "output_type": "stream",
          "text": [
            "Model: \"sequential\"\n",
            "_________________________________________________________________\n",
            " Layer (type)                Output Shape              Param #   \n",
            "=================================================================\n",
            " text_vectorization (TextVec  (None, 400)              0         \n",
            " torization)                                                     \n",
            "                                                                 \n",
            " embedding (Embedding)       (None, 400, 512)          2048000   \n",
            "                                                                 \n",
            " bidirectional (Bidirectiona  (None, 400, 1024)        3151872   \n",
            " l)                                                              \n",
            "                                                                 \n",
            " bidirectional_1 (Bidirectio  (None, 1024)             4724736   \n",
            " nal)                                                            \n",
            "                                                                 \n",
            " dense (Dense)               (None, 512)               524800    \n",
            "                                                                 \n",
            " dense_1 (Dense)             (None, 5)                 2565      \n",
            "                                                                 \n",
            "=================================================================\n",
            "Total params: 10,451,973\n",
            "Trainable params: 10,451,973\n",
            "Non-trainable params: 0\n",
            "_________________________________________________________________\n"
          ]
        },
        {
          "name": "stderr",
          "output_type": "stream",
          "text": [
            "\u001b[34m\u001b[1mwandb\u001b[0m: \u001b[33mWARNING\u001b[0m The save_model argument by default saves the model in the HDF5 format that cannot save custom objects like subclassed models and custom layers. This behavior will be deprecated in a future release in favor of the SavedModel format. Meanwhile, the HDF5 model is saved as W&B files and the SavedModel as W&B Artifacts.\n"
          ]
        },
        {
          "name": "stdout",
          "output_type": "stream",
          "text": [
            "Epoch 1/75\n",
            "1407/1407 [==============================] - ETA: 0s - loss: 1.1076 - accuracy: 0.5067 - auc: 0.8365 - precision: 0.6462 - recall: 0.2978"
          ]
        },
        {
          "name": "stderr",
          "output_type": "stream",
          "text": [
            "\u001b[34m\u001b[1mwandb\u001b[0m: \u001b[32m\u001b[41mERROR\u001b[0m Can't save model in the h5py format. The model will be saved as as an W&B Artifact in the 'tf' format.\n",
            "WARNING:absl:Found untraced functions such as gru_cell_1_layer_call_fn, gru_cell_1_layer_call_and_return_conditional_losses, gru_cell_2_layer_call_fn, gru_cell_2_layer_call_and_return_conditional_losses, gru_cell_4_layer_call_fn while saving (showing 5 of 8). These functions will not be directly callable after loading.\n"
          ]
        },
        {
          "name": "stdout",
          "output_type": "stream",
          "text": [
            "INFO:tensorflow:Assets written to: c:\\Users\\nille\\Documents\\GitHub\\amlexam\\wandb\\run-20240130_205758-26ryt87j\\files\\model-best\\assets\n"
          ]
        },
        {
          "name": "stderr",
          "output_type": "stream",
          "text": [
            "INFO:tensorflow:Assets written to: c:\\Users\\nille\\Documents\\GitHub\\amlexam\\wandb\\run-20240130_205758-26ryt87j\\files\\model-best\\assets\n",
            "\u001b[34m\u001b[1mwandb\u001b[0m: Adding directory to artifact (c:\\Users\\nille\\Documents\\GitHub\\amlexam\\wandb\\run-20240130_205758-26ryt87j\\files\\model-best)... Done. 0.3s\n"
          ]
        },
        {
          "name": "stdout",
          "output_type": "stream",
          "text": [
            "1407/1407 [==============================] - 248s 166ms/step - loss: 1.1076 - accuracy: 0.5067 - auc: 0.8365 - precision: 0.6462 - recall: 0.2978 - val_loss: 0.9925 - val_accuracy: 0.5734 - val_auc: 0.8716 - val_precision: 0.7029 - val_recall: 0.3672\n",
            "Epoch 2/75\n",
            "1406/1407 [============================>.] - ETA: 0s - loss: 0.9125 - accuracy: 0.6072 - auc: 0.8908 - precision: 0.6861 - recall: 0.4738"
          ]
        },
        {
          "name": "stderr",
          "output_type": "stream",
          "text": [
            "\u001b[34m\u001b[1mwandb\u001b[0m: \u001b[32m\u001b[41mERROR\u001b[0m Can't save model in the h5py format. The model will be saved as as an W&B Artifact in the 'tf' format.\n",
            "WARNING:absl:Found untraced functions such as gru_cell_1_layer_call_fn, gru_cell_1_layer_call_and_return_conditional_losses, gru_cell_2_layer_call_fn, gru_cell_2_layer_call_and_return_conditional_losses, gru_cell_4_layer_call_fn while saving (showing 5 of 8). These functions will not be directly callable after loading.\n"
          ]
        },
        {
          "name": "stdout",
          "output_type": "stream",
          "text": [
            "INFO:tensorflow:Assets written to: c:\\Users\\nille\\Documents\\GitHub\\amlexam\\wandb\\run-20240130_205758-26ryt87j\\files\\model-best\\assets\n"
          ]
        },
        {
          "name": "stderr",
          "output_type": "stream",
          "text": [
            "INFO:tensorflow:Assets written to: c:\\Users\\nille\\Documents\\GitHub\\amlexam\\wandb\\run-20240130_205758-26ryt87j\\files\\model-best\\assets\n",
            "\u001b[34m\u001b[1mwandb\u001b[0m: Adding directory to artifact (c:\\Users\\nille\\Documents\\GitHub\\amlexam\\wandb\\run-20240130_205758-26ryt87j\\files\\model-best)... Done. 0.3s\n"
          ]
        },
        {
          "name": "stdout",
          "output_type": "stream",
          "text": [
            "1407/1407 [==============================] - 227s 161ms/step - loss: 0.9125 - accuracy: 0.6072 - auc: 0.8908 - precision: 0.6861 - recall: 0.4738 - val_loss: 0.9885 - val_accuracy: 0.5746 - val_auc: 0.8751 - val_precision: 0.6454 - val_recall: 0.4758\n",
            "Epoch 3/75\n",
            "1407/1407 [==============================] - ETA: 0s - loss: 0.7926 - accuracy: 0.6669 - auc: 0.9179 - precision: 0.7243 - recall: 0.5800"
          ]
        },
        {
          "name": "stderr",
          "output_type": "stream",
          "text": [
            "\u001b[34m\u001b[1mwandb\u001b[0m: \u001b[32m\u001b[41mERROR\u001b[0m Can't save model in the h5py format. The model will be saved as as an W&B Artifact in the 'tf' format.\n",
            "WARNING:absl:Found untraced functions such as gru_cell_1_layer_call_fn, gru_cell_1_layer_call_and_return_conditional_losses, gru_cell_2_layer_call_fn, gru_cell_2_layer_call_and_return_conditional_losses, gru_cell_4_layer_call_fn while saving (showing 5 of 8). These functions will not be directly callable after loading.\n"
          ]
        },
        {
          "name": "stdout",
          "output_type": "stream",
          "text": [
            "INFO:tensorflow:Assets written to: c:\\Users\\nille\\Documents\\GitHub\\amlexam\\wandb\\run-20240130_205758-26ryt87j\\files\\model-best\\assets\n"
          ]
        },
        {
          "name": "stderr",
          "output_type": "stream",
          "text": [
            "INFO:tensorflow:Assets written to: c:\\Users\\nille\\Documents\\GitHub\\amlexam\\wandb\\run-20240130_205758-26ryt87j\\files\\model-best\\assets\n",
            "\u001b[34m\u001b[1mwandb\u001b[0m: Adding directory to artifact (c:\\Users\\nille\\Documents\\GitHub\\amlexam\\wandb\\run-20240130_205758-26ryt87j\\files\\model-best)... Done. 0.3s\n"
          ]
        },
        {
          "name": "stdout",
          "output_type": "stream",
          "text": [
            "1407/1407 [==============================] - 236s 168ms/step - loss: 0.7926 - accuracy: 0.6669 - auc: 0.9179 - precision: 0.7243 - recall: 0.5800 - val_loss: 0.9392 - val_accuracy: 0.6192 - val_auc: 0.8894 - val_precision: 0.6646 - val_recall: 0.5362\n",
            "Epoch 4/75\n",
            "1407/1407 [==============================] - 179s 127ms/step - loss: 0.6643 - accuracy: 0.7270 - auc: 0.9422 - precision: 0.7689 - recall: 0.6693 - val_loss: 0.9696 - val_accuracy: 0.6372 - val_auc: 0.8934 - val_precision: 0.6754 - val_recall: 0.5792\n",
            "Epoch 5/75\n",
            "1407/1407 [==============================] - 184s 131ms/step - loss: 0.5255 - accuracy: 0.7859 - auc: 0.9634 - precision: 0.8190 - recall: 0.7495 - val_loss: 0.9949 - val_accuracy: 0.6420 - val_auc: 0.8944 - val_precision: 0.6780 - val_recall: 0.5966\n",
            "Epoch 6/75\n",
            "1407/1407 [==============================] - 181s 129ms/step - loss: 0.4022 - accuracy: 0.8386 - auc: 0.9782 - precision: 0.8637 - recall: 0.8152 - val_loss: 1.1053 - val_accuracy: 0.6490 - val_auc: 0.8953 - val_precision: 0.6750 - val_recall: 0.6290\n",
            "Epoch 7/75\n",
            "1407/1407 [==============================] - 178s 127ms/step - loss: 0.3099 - accuracy: 0.8771 - auc: 0.9866 - precision: 0.8942 - recall: 0.8611 - val_loss: 1.3378 - val_accuracy: 0.6594 - val_auc: 0.8830 - val_precision: 0.6744 - val_recall: 0.6426\n",
            "Epoch 8/75\n",
            "1407/1407 [==============================] - 178s 126ms/step - loss: 0.2540 - accuracy: 0.9004 - auc: 0.9907 - precision: 0.9149 - recall: 0.8878 - val_loss: 1.4370 - val_accuracy: 0.6558 - val_auc: 0.8777 - val_precision: 0.6692 - val_recall: 0.6368\n",
            "Epoch 9/75\n",
            "1407/1407 [==============================] - 178s 127ms/step - loss: 0.2219 - accuracy: 0.9143 - auc: 0.9927 - precision: 0.9261 - recall: 0.9040 - val_loss: 1.4063 - val_accuracy: 0.6606 - val_auc: 0.8839 - val_precision: 0.6753 - val_recall: 0.6452\n",
            "Epoch 10/75\n",
            "1407/1407 [==============================] - 178s 126ms/step - loss: 0.2029 - accuracy: 0.9220 - auc: 0.9939 - precision: 0.9321 - recall: 0.9131 - val_loss: 1.4797 - val_accuracy: 0.6606 - val_auc: 0.8804 - val_precision: 0.6765 - val_recall: 0.6500\n",
            "Epoch 11/75\n",
            "1407/1407 [==============================] - 185s 132ms/step - loss: 0.1872 - accuracy: 0.9278 - auc: 0.9947 - precision: 0.9382 - recall: 0.9194 - val_loss: 1.5271 - val_accuracy: 0.6630 - val_auc: 0.8776 - val_precision: 0.6738 - val_recall: 0.6466\n",
            "Epoch 12/75\n",
            "1407/1407 [==============================] - 182s 129ms/step - loss: 0.1946 - accuracy: 0.9252 - auc: 0.9942 - precision: 0.9354 - recall: 0.9172 - val_loss: 1.5493 - val_accuracy: 0.6638 - val_auc: 0.8744 - val_precision: 0.6788 - val_recall: 0.6534\n",
            "Epoch 13/75\n",
            "1407/1407 [==============================] - 185s 132ms/step - loss: 0.1947 - accuracy: 0.9239 - auc: 0.9944 - precision: 0.9347 - recall: 0.9154 - val_loss: 1.6094 - val_accuracy: 0.6592 - val_auc: 0.8722 - val_precision: 0.6700 - val_recall: 0.6504\n",
            "Epoch 14/75\n",
            "1407/1407 [==============================] - 184s 131ms/step - loss: 0.1913 - accuracy: 0.9266 - auc: 0.9944 - precision: 0.9364 - recall: 0.9180 - val_loss: 1.5155 - val_accuracy: 0.6534 - val_auc: 0.8742 - val_precision: 0.6645 - val_recall: 0.6386\n",
            "Epoch 15/75\n",
            "1407/1407 [==============================] - 183s 130ms/step - loss: 0.2098 - accuracy: 0.9190 - auc: 0.9934 - precision: 0.9296 - recall: 0.9098 - val_loss: 1.5208 - val_accuracy: 0.6462 - val_auc: 0.8732 - val_precision: 0.6574 - val_recall: 0.6332\n",
            "Epoch 16/75\n",
            "1407/1407 [==============================] - 183s 130ms/step - loss: 0.2257 - accuracy: 0.9133 - auc: 0.9924 - precision: 0.9239 - recall: 0.9039 - val_loss: 1.4518 - val_accuracy: 0.6536 - val_auc: 0.8761 - val_precision: 0.6683 - val_recall: 0.6388\n",
            "Epoch 17/75\n",
            "1407/1407 [==============================] - 185s 131ms/step - loss: 0.3393 - accuracy: 0.8686 - auc: 0.9843 - precision: 0.8856 - recall: 0.8522 - val_loss: 1.1727 - val_accuracy: 0.6188 - val_auc: 0.8714 - val_precision: 0.6429 - val_recall: 0.5796\n",
            "Epoch 18/75\n",
            "1407/1407 [==============================] - 175s 125ms/step - loss: 0.6046 - accuracy: 0.7598 - auc: 0.9524 - precision: 0.7960 - recall: 0.7158 - val_loss: 1.1032 - val_accuracy: 0.5954 - val_auc: 0.8696 - val_precision: 0.6339 - val_recall: 0.5388\n",
            "Epoch 19/75\n",
            "1407/1407 [==============================] - 187s 133ms/step - loss: 0.5959 - accuracy: 0.7611 - auc: 0.9536 - precision: 0.7988 - recall: 0.7190 - val_loss: 1.0780 - val_accuracy: 0.6134 - val_auc: 0.8776 - val_precision: 0.6446 - val_recall: 0.5636\n",
            "Epoch 20/75\n",
            "1407/1407 [==============================] - 185s 132ms/step - loss: 0.5188 - accuracy: 0.7970 - auc: 0.9645 - precision: 0.8267 - recall: 0.7630 - val_loss: 1.1136 - val_accuracy: 0.6298 - val_auc: 0.8834 - val_precision: 0.6590 - val_recall: 0.5972\n",
            "Epoch 21/75\n",
            "1407/1407 [==============================] - 188s 133ms/step - loss: 0.4181 - accuracy: 0.8394 - auc: 0.9766 - precision: 0.8624 - recall: 0.8151 - val_loss: 1.2908 - val_accuracy: 0.6096 - val_auc: 0.8722 - val_precision: 0.6298 - val_recall: 0.5852\n",
            "Epoch 22/75\n",
            "1407/1407 [==============================] - 186s 132ms/step - loss: 0.4410 - accuracy: 0.8268 - auc: 0.9740 - precision: 0.8515 - recall: 0.8012 - val_loss: 1.1950 - val_accuracy: 0.6236 - val_auc: 0.8779 - val_precision: 0.6462 - val_recall: 0.5958\n",
            "Epoch 23/75\n",
            "1407/1407 [==============================] - 189s 134ms/step - loss: 0.4214 - accuracy: 0.8351 - auc: 0.9763 - precision: 0.8570 - recall: 0.8113 - val_loss: 1.2417 - val_accuracy: 0.6250 - val_auc: 0.8781 - val_precision: 0.6466 - val_recall: 0.5986\n"
          ]
        },
        {
          "name": "stderr",
          "output_type": "stream",
          "text": [
            "WARNING:absl:Found untraced functions such as gru_cell_1_layer_call_fn, gru_cell_1_layer_call_and_return_conditional_losses, gru_cell_2_layer_call_fn, gru_cell_2_layer_call_and_return_conditional_losses, gru_cell_4_layer_call_fn while saving (showing 5 of 8). These functions will not be directly callable after loading.\n"
          ]
        },
        {
          "name": "stdout",
          "output_type": "stream",
          "text": [
            "INFO:tensorflow:Assets written to: Final Model Bidi GRU(512),GRU(512),Embedding = 512, T = 4000, L=400\\assets\n"
          ]
        },
        {
          "name": "stderr",
          "output_type": "stream",
          "text": [
            "INFO:tensorflow:Assets written to: Final Model Bidi GRU(512),GRU(512),Embedding = 512, T = 4000, L=400\\assets\n"
          ]
        }
      ],
      "source": [
        "tf.keras.backend.clear_session()\n",
        "wandb.init(project= 'RNN Experiments 1',\n",
        "           name = 'FINAL MODEL: 10.000 per rating train, Bidi GRU(512),Bidi GRU(512),Embedding = 512, T = 4000, L=400')\n",
        "\n",
        "early_stopping = EarlyStopping(monitor='val_loss', patience = 20, restore_best_weights = True)\n",
        "\n",
        "model = tf.keras.Sequential([\n",
        "    encoder,\n",
        "    tf.keras.layers.Embedding(\n",
        "        input_dim=len(encoder.get_vocabulary()),\n",
        "        output_dim=512,\n",
        "        mask_zero=True),\n",
        "    tf.keras.layers.Bidirectional(tf.keras.layers.GRU(512, return_sequences=True)),\n",
        "    tf.keras.layers.Bidirectional(tf.keras.layers.GRU(512)),\n",
        "    tf.keras.layers.Dense(512, activation='relu'),\n",
        "    tf.keras.layers.Dense(5, activation='softmax')\n",
        "])\n",
        "\n",
        "\n",
        "model.summary()\n",
        "\n",
        "model.compile(optimizer='adam',\n",
        "              loss='categorical_crossentropy',\n",
        "              metrics=['accuracy','AUC','Precision','Recall'])\n",
        "\n",
        "history = model.fit(\n",
        "    df_xtrain['reviewText'],\n",
        "    df_ytrain_one_hot,\n",
        "    epochs=75,\n",
        "    validation_data=(df_xval['reviewText'], df_yval_one_hot),\n",
        "    callbacks = [WandbCallback(), early_stopping])\n",
        "\n",
        "model.save('Final_Model_Bidi_GRU(512)_GRU(512)_Embedding_512_T_4000_L_400.keras')"
      ]
    },
    {
      "cell_type": "code",
      "execution_count": 23,
      "metadata": {},
      "outputs": [
        {
          "data": {
            "text/html": [
              "Finishing last run (ID:26ryt87j) before initializing another..."
            ],
            "text/plain": [
              "<IPython.core.display.HTML object>"
            ]
          },
          "metadata": {},
          "output_type": "display_data"
        },
        {
          "data": {
            "application/vnd.jupyter.widget-view+json": {
              "model_id": "e45d94a884e74e43b94db1235d810e3d",
              "version_major": 2,
              "version_minor": 0
            },
            "text/plain": [
              "VBox(children=(Label(value='432.569 MB of 432.569 MB uploaded (0.059 MB deduped)\\r'), FloatProgress(value=1.0,…"
            ]
          },
          "metadata": {},
          "output_type": "display_data"
        },
        {
          "data": {
            "text/html": [
              "<style>\n",
              "    table.wandb td:nth-child(1) { padding: 0 10px; text-align: left ; width: auto;} td:nth-child(2) {text-align: left ; width: 100%}\n",
              "    .wandb-row { display: flex; flex-direction: row; flex-wrap: wrap; justify-content: flex-start; width: 100% }\n",
              "    .wandb-col { display: flex; flex-direction: column; flex-basis: 100%; flex: 1; padding: 10px; }\n",
              "    </style>\n",
              "<div class=\"wandb-row\"><div class=\"wandb-col\"><h3>Run history:</h3><br/><table class=\"wandb\"><tr><td>accuracy</td><td>▁▃▄▅▆▇▇█████████▇▅▅▆▇▆▆</td></tr><tr><td>auc</td><td>▁▃▅▆▇▇███████████▆▆▇▇▇▇</td></tr><tr><td>epoch</td><td>▁▁▂▂▂▃▃▃▄▄▄▅▅▅▅▆▆▆▇▇▇██</td></tr><tr><td>loss</td><td>█▇▆▅▄▃▂▂▁▁▁▁▁▁▁▁▂▄▄▄▃▃▃</td></tr><tr><td>precision</td><td>▁▂▃▄▅▆▇▇████████▇▅▅▅▆▆▆</td></tr><tr><td>recall</td><td>▁▃▄▅▆▇▇█████████▇▆▆▆▇▇▇</td></tr><tr><td>val_accuracy</td><td>▁▁▅▆▆▇█▇█████▇▇▇▅▃▄▅▄▅▅</td></tr><tr><td>val_auc</td><td>▂▂▆▇██▅▃▅▄▃▂▂▂▂▃▁▁▃▅▂▃▃</td></tr><tr><td>val_loss</td><td>▂▂▁▁▂▃▅▆▆▇▇▇█▇▇▆▃▃▂▃▅▄▄</td></tr><tr><td>val_precision</td><td>█▂▄▅▆▅▅▅▅▅▅▆▅▄▄▅▂▁▂▄▁▃▃</td></tr><tr><td>val_recall</td><td>▁▄▅▆▇▇██████████▆▅▆▇▆▇▇</td></tr></table><br/></div><div class=\"wandb-col\"><h3>Run summary:</h3><br/><table class=\"wandb\"><tr><td>accuracy</td><td>0.83513</td></tr><tr><td>auc</td><td>0.97626</td></tr><tr><td>best_epoch</td><td>2</td></tr><tr><td>best_val_loss</td><td>0.9392</td></tr><tr><td>epoch</td><td>22</td></tr><tr><td>loss</td><td>0.42139</td></tr><tr><td>precision</td><td>0.85704</td></tr><tr><td>recall</td><td>0.81131</td></tr><tr><td>val_accuracy</td><td>0.625</td></tr><tr><td>val_auc</td><td>0.87807</td></tr><tr><td>val_loss</td><td>1.24167</td></tr><tr><td>val_precision</td><td>0.64658</td></tr><tr><td>val_recall</td><td>0.5986</td></tr></table><br/></div></div>"
            ],
            "text/plain": [
              "<IPython.core.display.HTML object>"
            ]
          },
          "metadata": {},
          "output_type": "display_data"
        },
        {
          "data": {
            "text/html": [
              " View run <strong style=\"color:#cdcd00\">FINAL MODEL: 10.000 per rating train, Bidi GRU(512),Bidi GRU(512),Embedding = 512, T = 4000, L=400</strong> at: <a href='https://wandb.ai/arghstress/RNN%20Experiments%201/runs/26ryt87j' target=\"_blank\">https://wandb.ai/arghstress/RNN%20Experiments%201/runs/26ryt87j</a><br/>Synced 6 W&B file(s), 1 media file(s), 12 artifact file(s) and 1 other file(s)"
            ],
            "text/plain": [
              "<IPython.core.display.HTML object>"
            ]
          },
          "metadata": {},
          "output_type": "display_data"
        },
        {
          "data": {
            "text/html": [
              "Find logs at: <code>.\\wandb\\run-20240130_205758-26ryt87j\\logs</code>"
            ],
            "text/plain": [
              "<IPython.core.display.HTML object>"
            ]
          },
          "metadata": {},
          "output_type": "display_data"
        },
        {
          "data": {
            "text/html": [
              "Successfully finished last run (ID:26ryt87j). Initializing new run:<br/>"
            ],
            "text/plain": [
              "<IPython.core.display.HTML object>"
            ]
          },
          "metadata": {},
          "output_type": "display_data"
        },
        {
          "data": {
            "application/vnd.jupyter.widget-view+json": {
              "model_id": "ae26ad3758ce4038a6aa2460f0644865",
              "version_major": 2,
              "version_minor": 0
            },
            "text/plain": [
              "VBox(children=(Label(value='Waiting for wandb.init()...\\r'), FloatProgress(value=0.011111111111111112, max=1.0…"
            ]
          },
          "metadata": {},
          "output_type": "display_data"
        },
        {
          "data": {
            "text/html": [
              "wandb version 0.16.2 is available!  To upgrade, please run:\n",
              " $ pip install wandb --upgrade"
            ],
            "text/plain": [
              "<IPython.core.display.HTML object>"
            ]
          },
          "metadata": {},
          "output_type": "display_data"
        },
        {
          "data": {
            "text/html": [
              "Tracking run with wandb version 0.16.1"
            ],
            "text/plain": [
              "<IPython.core.display.HTML object>"
            ]
          },
          "metadata": {},
          "output_type": "display_data"
        },
        {
          "data": {
            "text/html": [
              "Run data is saved locally in <code>c:\\Users\\nille\\Documents\\GitHub\\amlexam\\wandb\\run-20240130_225048-x2avyaph</code>"
            ],
            "text/plain": [
              "<IPython.core.display.HTML object>"
            ]
          },
          "metadata": {},
          "output_type": "display_data"
        },
        {
          "data": {
            "text/html": [
              "Syncing run <strong><a href='https://wandb.ai/arghstress/RNN%20test/runs/x2avyaph' target=\"_blank\">Final model test</a></strong> to <a href='https://wandb.ai/arghstress/RNN%20test' target=\"_blank\">Weights & Biases</a> (<a href='https://wandb.me/run' target=\"_blank\">docs</a>)<br/>"
            ],
            "text/plain": [
              "<IPython.core.display.HTML object>"
            ]
          },
          "metadata": {},
          "output_type": "display_data"
        },
        {
          "data": {
            "text/html": [
              " View project at <a href='https://wandb.ai/arghstress/RNN%20test' target=\"_blank\">https://wandb.ai/arghstress/RNN%20test</a>"
            ],
            "text/plain": [
              "<IPython.core.display.HTML object>"
            ]
          },
          "metadata": {},
          "output_type": "display_data"
        },
        {
          "data": {
            "text/html": [
              " View run at <a href='https://wandb.ai/arghstress/RNN%20test/runs/x2avyaph' target=\"_blank\">https://wandb.ai/arghstress/RNN%20test/runs/x2avyaph</a>"
            ],
            "text/plain": [
              "<IPython.core.display.HTML object>"
            ]
          },
          "metadata": {},
          "output_type": "display_data"
        },
        {
          "name": "stdout",
          "output_type": "stream",
          "text": [
            "1071/1071 [==============================] - 71s 66ms/step - loss: 1.5836 - accuracy: 0.4340 - auc: 0.7571 - precision: 0.4814 - recall: 0.3646\n",
            "[1.5835689306259155, 0.4339997172355652, 0.757129430770874, 0.48142439126968384, 0.3645702600479126]\n"
          ]
        }
      ],
      "source": [
        "wandb.init(project='RNN test',\n",
        "           name='Final model test')\n",
        "\n",
        "evaluation_results = model.evaluate(x=x_test, y=y_test_one_hot)\n",
        "\n",
        "print(evaluation_results)\n",
        "dict_of_result = {'loss':evaluation_results[0], \n",
        "                  'accuracy':evaluation_results[1], \n",
        "                  'AUC':evaluation_results[2], \n",
        "                  'Precision':evaluation_results[3], \n",
        "                  'Recall':evaluation_results[4]}\n",
        "\n",
        "wandb.log(dict_of_result)"
      ]
    },
    {
      "cell_type": "code",
      "execution_count": 24,
      "metadata": {},
      "outputs": [
        {
          "data": {
            "application/vnd.jupyter.widget-view+json": {
              "model_id": "90eb4304becd40c0b86cf49b26c475ba",
              "version_major": 2,
              "version_minor": 0
            },
            "text/plain": [
              "VBox(children=(Label(value='0.001 MB of 0.001 MB uploaded\\r'), FloatProgress(value=1.0, max=1.0)))"
            ]
          },
          "metadata": {},
          "output_type": "display_data"
        },
        {
          "data": {
            "text/html": [
              "<style>\n",
              "    table.wandb td:nth-child(1) { padding: 0 10px; text-align: left ; width: auto;} td:nth-child(2) {text-align: left ; width: 100%}\n",
              "    .wandb-row { display: flex; flex-direction: row; flex-wrap: wrap; justify-content: flex-start; width: 100% }\n",
              "    .wandb-col { display: flex; flex-direction: column; flex-basis: 100%; flex: 1; padding: 10px; }\n",
              "    </style>\n",
              "<div class=\"wandb-row\"><div class=\"wandb-col\"><h3>Run history:</h3><br/><table class=\"wandb\"><tr><td>AUC</td><td>▁</td></tr><tr><td>Precision</td><td>▁</td></tr><tr><td>Recall</td><td>▁</td></tr><tr><td>accuracy</td><td>▁</td></tr><tr><td>loss</td><td>▁</td></tr></table><br/></div><div class=\"wandb-col\"><h3>Run summary:</h3><br/><table class=\"wandb\"><tr><td>AUC</td><td>0.75713</td></tr><tr><td>Precision</td><td>0.48142</td></tr><tr><td>Recall</td><td>0.36457</td></tr><tr><td>accuracy</td><td>0.434</td></tr><tr><td>loss</td><td>1.58357</td></tr></table><br/></div></div>"
            ],
            "text/plain": [
              "<IPython.core.display.HTML object>"
            ]
          },
          "metadata": {},
          "output_type": "display_data"
        },
        {
          "data": {
            "text/html": [
              " View run <strong style=\"color:#cdcd00\">Final model test</strong> at: <a href='https://wandb.ai/arghstress/RNN%20test/runs/x2avyaph' target=\"_blank\">https://wandb.ai/arghstress/RNN%20test/runs/x2avyaph</a><br/>Synced 6 W&B file(s), 0 media file(s), 0 artifact file(s) and 0 other file(s)"
            ],
            "text/plain": [
              "<IPython.core.display.HTML object>"
            ]
          },
          "metadata": {},
          "output_type": "display_data"
        },
        {
          "data": {
            "text/html": [
              "Find logs at: <code>.\\wandb\\run-20240130_225048-x2avyaph\\logs</code>"
            ],
            "text/plain": [
              "<IPython.core.display.HTML object>"
            ]
          },
          "metadata": {},
          "output_type": "display_data"
        }
      ],
      "source": [
        "wandb.finish()"
      ]
    },
    {
      "cell_type": "code",
      "execution_count": 27,
      "metadata": {},
      "outputs": [
        {
          "name": "stdout",
          "output_type": "stream",
          "text": [
            "1071/1071 [==============================] - 72s 63ms/step\n"
          ]
        }
      ],
      "source": [
        "y_test_pred = model.predict(x_test)"
      ]
    },
    {
      "cell_type": "code",
      "execution_count": 28,
      "metadata": {},
      "outputs": [
        {
          "name": "stdout",
          "output_type": "stream",
          "text": [
            "Predicted Class Labels:\n",
            "[2 4 2 ... 1 5 4]\n"
          ]
        }
      ],
      "source": [
        "y_test_predictions_class = np.argmax(y_test_pred, axis=1) + 1"
      ]
    },
    {
      "cell_type": "code",
      "execution_count": 29,
      "metadata": {},
      "outputs": [
        {
          "data": {
            "image/png": "[encoded data removed]",
            "text/plain": [
              "<Figure size 800x600 with 2 Axes>"
            ]
          },
          "metadata": {},
          "output_type": "display_data"
        }
      ],
      "source": [
        "cm = confusion_matrix(y_test, y_test_predictions_class)\n",
        "\n",
        "#Calculate percentages\n",
        "cm_percent = cm / cm.sum(axis=1)[:, np.newaxis] * 100\n",
        "\n",
        "#Visualize the confusion matrix using a heatmap\n",
        "plt.figure(figsize=(8, 6))\n",
        "plt.imshow(cm_percent, interpolation='nearest', cmap='Blues')\n",
        "plt.colorbar(label='Percentage')\n",
        "plt.xlabel(\"Predicted Label\")\n",
        "plt.ylabel(\"True Label\")\n",
        "plt.title(\"Confusion Matrix (%)\")\n",
        "\n",
        "#Add annotations\n",
        "for i in range(len(cm_percent)):\n",
        "    for j in range(len(cm_percent[i])):\n",
        "        plt.text(j, i, f'{cm_percent[i, j]:.2f}%', ha='center', va='center', color='black', fontsize=8)\n",
        "\n",
        "plt.xticks(range(5), labels=range(1, 6))\n",
        "plt.yticks(range(5), labels=range(1, 6))\n",
        "\n",
        "plt.show()"
      ]
    }
  ],
  "metadata": {
    "accelerator": "GPU",
    "colab": {
      "gpuType": "T4",
      "provenance": []
    },
    "kernelspec": {
      "display_name": "Python 3",
      "name": "python3"
    },
    "language_info": {
      "codemirror_mode": {
        "name": "ipython",
        "version": 3
      },
      "file_extension": ".py",
      "mimetype": "text/x-python",
      "name": "python",
      "nbconvert_exporter": "python",
      "pygments_lexer": "ipython3",
      "version": "3.10.13"
    }
  },
  "nbformat": 4,
  "nbformat_minor": 0
}
